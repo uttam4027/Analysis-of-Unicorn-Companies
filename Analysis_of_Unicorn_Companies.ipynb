{
  "nbformat": 4,
  "nbformat_minor": 0,
  "metadata": {
    "colab": {
      "provenance": [],
      "toc_visible": true,
      "authorship_tag": "ABX9TyMk+L2MQcS9+sLCFEnDrdVC",
      "include_colab_link": true
    },
    "kernelspec": {
      "name": "python3",
      "display_name": "Python 3"
    },
    "language_info": {
      "name": "python"
    }
  },
  "cells": [
    {
      "cell_type": "markdown",
      "metadata": {
        "id": "view-in-github",
        "colab_type": "text"
      },
      "source": [
        "<a href=\"https://colab.research.google.com/github/uttam4027/Analysis-of-Unicorn-Companies/blob/main/Analysis_of_Unicorn_Companies.ipynb\" target=\"_parent\"><img src=\"https://colab.research.google.com/assets/colab-badge.svg\" alt=\"Open In Colab\"/></a>"
      ]
    },
    {
      "cell_type": "markdown",
      "source": [],
      "metadata": {
        "id": "R_zmIqYggRe-"
      }
    },
    {
      "cell_type": "markdown",
      "source": [
        "# **1. Load and Prepare the Data:**"
      ],
      "metadata": {
        "id": "8WY2S2Zf7xRn"
      }
    },
    {
      "cell_type": "code",
      "execution_count": null,
      "metadata": {
        "id": "zL0vCeVKceaY"
      },
      "outputs": [],
      "source": [
        "import pandas as pd\n",
        "\n",
        "# Load your dataset (replace 'data.csv' with your file name)\n",
        "df = pd.read_csv('/content/Unicorn_Companies.csv')\n",
        "\n",
        "\n"
      ]
    },
    {
      "cell_type": "code",
      "source": [
        "df['City'].unique"
      ],
      "metadata": {
        "colab": {
          "base_uri": "https://localhost:8080/"
        },
        "id": "5ItQxTDFSBLX",
        "outputId": "515222ee-b0ad-4729-8dde-c9d0da6e90fc"
      },
      "execution_count": null,
      "outputs": [
        {
          "output_type": "execute_result",
          "data": {
            "text/plain": [
              "<bound method Series.unique of 0             Beijing\n",
              "1           Hawthorne\n",
              "2            Shenzhen\n",
              "3       San Francisco\n",
              "4           Stockholm\n",
              "            ...      \n",
              "1057         Shanghai\n",
              "1058          Beijing\n",
              "1059        Chongqing\n",
              "1060           London\n",
              "1061       Long Beach\n",
              "Name: City, Length: 1062, dtype: object>"
            ]
          },
          "metadata": {},
          "execution_count": 5
        }
      ]
    },
    {
      "cell_type": "code",
      "source": [
        "print(df.columns)\n"
      ],
      "metadata": {
        "colab": {
          "base_uri": "https://localhost:8080/"
        },
        "id": "lCa49zo6aawh",
        "outputId": "09624892-401c-4fc7-861e-1e3e28774b65"
      },
      "execution_count": null,
      "outputs": [
        {
          "output_type": "stream",
          "name": "stdout",
          "text": [
            "Index(['Company', 'Valuation', 'Date Joined', 'Industry', 'City', 'Country',\n",
            "       'Continent', 'Year Founded', 'Funding', 'Select Investors'],\n",
            "      dtype='object')\n"
          ]
        }
      ]
    },
    {
      "cell_type": "markdown",
      "source": [],
      "metadata": {
        "id": "I4R1IzA376BU"
      }
    },
    {
      "cell_type": "markdown",
      "source": [
        "# **1. Which unicorn companies have had the biggest return on investment?**\n",
        "\n",
        "\n"
      ],
      "metadata": {
        "id": "LNXtXQFw_oh_"
      }
    },
    {
      "cell_type": "markdown",
      "source": [
        "**1.1  Calculate ROI:**\n",
        "\n",
        "\n"
      ],
      "metadata": {
        "id": "pVcvGL3Z_0M4"
      }
    },
    {
      "cell_type": "code",
      "source": [
        "\n",
        "\n",
        "# Calculate ROI\n",
        "df['ROI'] = (df['Valuation'] - df['Funding']) / df['Funding']\n",
        "\n",
        "# Sort DataFrame by ROI in descending order\n",
        "top_roi_companies = df.sort_values(by='ROI', ascending=False)\n",
        "\n",
        "# Display top companies with highest ROI\n",
        "print(top_roi_companies[['Company','Industry', 'ROI']].head(10))  # Display top 10 companies"
      ],
      "metadata": {
        "colab": {
          "base_uri": "https://localhost:8080/"
        },
        "id": "k3iYWiZNaEFk",
        "outputId": "78a43804-27b1-4f49-ca77-bbad4bcf394b"
      },
      "execution_count": null,
      "outputs": [
        {
          "output_type": "stream",
          "name": "stdout",
          "text": [
            "                  Company                         Industry          ROI\n",
            "189  Otto Bock HealthCare                           Health          inf\n",
            "238                Zapier     Internet software & services  3999.000000\n",
            "61                 Dunamu                          Fintech   125.760563\n",
            "785             Workhuman     Internet software & services   110.111111\n",
            "360                  CFGI                          Fintech   104.263158\n",
            "736                Manner                            Other    99.000000\n",
            "72        DJI Innovations                         Hardware    75.190476\n",
            "753           GalaxySpace      Mobile & telecommunications    70.428571\n",
            "5                   Canva     Internet software & services    68.930070\n",
            "367            Il Makiage  E-commerce & direct-to-consumer    67.965517\n"
          ]
        }
      ]
    },
    {
      "cell_type": "markdown",
      "source": [
        "**1.2 Visualize Data**"
      ],
      "metadata": {
        "id": "-xyiuZKuAFpC"
      }
    },
    {
      "cell_type": "code",
      "source": [
        "import matplotlib.pyplot as plt\n",
        "\n",
        "# Plot top companies with highest ROI\n",
        "top_roi_companies_plot = top_roi_companies.head(10)\n",
        "plt.bar(top_roi_companies_plot['Company'], top_roi_companies_plot['ROI'])\n",
        "plt.xlabel('Company')\n",
        "plt.ylabel('ROI')\n",
        "plt.title('Top Companies with Highest ROI')\n",
        "plt.xticks(rotation=90)  # Rotate x-labels for better readability\n",
        "plt.tight_layout()\n",
        "plt.show()\n"
      ],
      "metadata": {
        "colab": {
          "base_uri": "https://localhost:8080/",
          "height": 487
        },
        "id": "f_cvpB92f8Rp",
        "outputId": "50a143ce-7b32-48d0-c2c7-fcd672d16b63"
      },
      "execution_count": null,
      "outputs": [
        {
          "output_type": "display_data",
          "data": {
            "text/plain": [
              "<Figure size 640x480 with 1 Axes>"
            ],
            "image/png": "[encoded data removed]"
          },
          "metadata": {}
        }
      ]
    },
    {
      "cell_type": "code",
      "source": [
        "# Calculate time to reach $1B valuation\n",
        "df['Time to Reach $1B'] = pd.to_datetime(df['Date Joined']) - pd.to_datetime(df['Year Founded'], format='%Y')\n",
        "df['Time to Reach $1B'] = df['Time to Reach $1B'].dt.days / 365  # Convert days to years"
      ],
      "metadata": {
        "id": "yoZgNYtxgIAX",
        "colab": {
          "base_uri": "https://localhost:8080/"
        },
        "outputId": "9c88ea30-91dd-4dd5-f9e7-dead16a33d9a"
      },
      "execution_count": null,
      "outputs": [
        {
          "output_type": "stream",
          "name": "stderr",
          "text": [
            "<ipython-input-3-a2135e4b298a>:2: UserWarning: Parsing dates in DD/MM/YYYY format when dayfirst=False (the default) was specified. This may lead to inconsistently parsed dates! Specify a format to ensure consistent parsing.\n",
            "  df['Time to Reach $1B'] = pd.to_datetime(df['Date Joined']) - pd.to_datetime(df['Year Founded'], format='%Y')\n"
          ]
        }
      ]
    },
    {
      "cell_type": "code",
      "source": [
        "df.head()"
      ],
      "metadata": {
        "colab": {
          "base_uri": "https://localhost:8080/",
          "height": 327
        },
        "id": "pL7pZSp0mgh_",
        "outputId": "f336e5e7-6df2-4b0c-b90b-05ff987e6685"
      },
      "execution_count": null,
      "outputs": [
        {
          "output_type": "execute_result",
          "data": {
            "text/plain": [
              "     Company     Valuation Date Joined                         Industry  \\\n",
              "0  Bytedance  180000000000  2017-07-04          Artificial intelligence   \n",
              "1     SpaceX  100000000000  2012-01-12                            Other   \n",
              "2      SHEIN  100000000000  2018-03-07  E-commerce & direct-to-consumer   \n",
              "3     Stripe   95000000000  2014-01-23                          Fintech   \n",
              "4     Klarna   46000000000  2011-12-12                          Fintech   \n",
              "\n",
              "            City        Country      Continent  Year Founded     Funding  \\\n",
              "0        Beijing          China           Asia          2012  8000000000   \n",
              "1      Hawthorne  United States  North America          2002  7000000000   \n",
              "2       Shenzhen          China           Asia          2008  2000000000   \n",
              "3  San Francisco  United States  North America          2010  2000000000   \n",
              "4      Stockholm         Sweden         Europe          2005  4000000000   \n",
              "\n",
              "                                    Select Investors  Time to Unicorn (Years)  \\\n",
              "0  Sequoia Capital China, SIG Asia Investments, S...                        5   \n",
              "1  Founders Fund, Draper Fisher Jurvetson, Rothen...                       10   \n",
              "2  Tiger Global Management, Sequoia Capital China...                       10   \n",
              "3        Khosla Ventures, LowercaseCapital, capitalG                        4   \n",
              "4  Institutional Venture Partners, Sequoia Capita...                        6   \n",
              "\n",
              "         ROI  Time to Reach $1B  \n",
              "0  21.500000           5.509589  \n",
              "1  13.285714          10.035616  \n",
              "2  49.000000          10.186301  \n",
              "3  46.500000           4.063014  \n",
              "4  10.500000           6.947945  "
            ],
            "text/html": [
              "\n",
              "  <div id=\"df-e61e1eff-db03-45e4-ba82-553e9149d427\" class=\"colab-df-container\">\n",
              "    <div>\n",
              "<style scoped>\n",
              "    .dataframe tbody tr th:only-of-type {\n",
              "        vertical-align: middle;\n",
              "    }\n",
              "\n",
              "    .dataframe tbody tr th {\n",
              "        vertical-align: top;\n",
              "    }\n",
              "\n",
              "    .dataframe thead th {\n",
              "        text-align: right;\n",
              "    }\n",
              "</style>\n",
              "<table border=\"1\" class=\"dataframe\">\n",
              "  <thead>\n",
              "    <tr style=\"text-align: right;\">\n",
              "      <th></th>\n",
              "      <th>Company</th>\n",
              "      <th>Valuation</th>\n",
              "      <th>Date Joined</th>\n",
              "      <th>Industry</th>\n",
              "      <th>City</th>\n",
              "      <th>Country</th>\n",
              "      <th>Continent</th>\n",
              "      <th>Year Founded</th>\n",
              "      <th>Funding</th>\n",
              "      <th>Select Investors</th>\n",
              "      <th>Time to Unicorn (Years)</th>\n",
              "      <th>ROI</th>\n",
              "      <th>Time to Reach $1B</th>\n",
              "    </tr>\n",
              "  </thead>\n",
              "  <tbody>\n",
              "    <tr>\n",
              "      <th>0</th>\n",
              "      <td>Bytedance</td>\n",
              "      <td>180000000000</td>\n",
              "      <td>2017-07-04</td>\n",
              "      <td>Artificial intelligence</td>\n",
              "      <td>Beijing</td>\n",
              "      <td>China</td>\n",
              "      <td>Asia</td>\n",
              "      <td>2012</td>\n",
              "      <td>8000000000</td>\n",
              "      <td>Sequoia Capital China, SIG Asia Investments, S...</td>\n",
              "      <td>5</td>\n",
              "      <td>21.500000</td>\n",
              "      <td>5.509589</td>\n",
              "    </tr>\n",
              "    <tr>\n",
              "      <th>1</th>\n",
              "      <td>SpaceX</td>\n",
              "      <td>100000000000</td>\n",
              "      <td>2012-01-12</td>\n",
              "      <td>Other</td>\n",
              "      <td>Hawthorne</td>\n",
              "      <td>United States</td>\n",
              "      <td>North America</td>\n",
              "      <td>2002</td>\n",
              "      <td>7000000000</td>\n",
              "      <td>Founders Fund, Draper Fisher Jurvetson, Rothen...</td>\n",
              "      <td>10</td>\n",
              "      <td>13.285714</td>\n",
              "      <td>10.035616</td>\n",
              "    </tr>\n",
              "    <tr>\n",
              "      <th>2</th>\n",
              "      <td>SHEIN</td>\n",
              "      <td>100000000000</td>\n",
              "      <td>2018-03-07</td>\n",
              "      <td>E-commerce &amp; direct-to-consumer</td>\n",
              "      <td>Shenzhen</td>\n",
              "      <td>China</td>\n",
              "      <td>Asia</td>\n",
              "      <td>2008</td>\n",
              "      <td>2000000000</td>\n",
              "      <td>Tiger Global Management, Sequoia Capital China...</td>\n",
              "      <td>10</td>\n",
              "      <td>49.000000</td>\n",
              "      <td>10.186301</td>\n",
              "    </tr>\n",
              "    <tr>\n",
              "      <th>3</th>\n",
              "      <td>Stripe</td>\n",
              "      <td>95000000000</td>\n",
              "      <td>2014-01-23</td>\n",
              "      <td>Fintech</td>\n",
              "      <td>San Francisco</td>\n",
              "      <td>United States</td>\n",
              "      <td>North America</td>\n",
              "      <td>2010</td>\n",
              "      <td>2000000000</td>\n",
              "      <td>Khosla Ventures, LowercaseCapital, capitalG</td>\n",
              "      <td>4</td>\n",
              "      <td>46.500000</td>\n",
              "      <td>4.063014</td>\n",
              "    </tr>\n",
              "    <tr>\n",
              "      <th>4</th>\n",
              "      <td>Klarna</td>\n",
              "      <td>46000000000</td>\n",
              "      <td>2011-12-12</td>\n",
              "      <td>Fintech</td>\n",
              "      <td>Stockholm</td>\n",
              "      <td>Sweden</td>\n",
              "      <td>Europe</td>\n",
              "      <td>2005</td>\n",
              "      <td>4000000000</td>\n",
              "      <td>Institutional Venture Partners, Sequoia Capita...</td>\n",
              "      <td>6</td>\n",
              "      <td>10.500000</td>\n",
              "      <td>6.947945</td>\n",
              "    </tr>\n",
              "  </tbody>\n",
              "</table>\n",
              "</div>\n",
              "    <div class=\"colab-df-buttons\">\n",
              "\n",
              "  <div class=\"colab-df-container\">\n",
              "    <button class=\"colab-df-convert\" onclick=\"convertToInteractive('df-e61e1eff-db03-45e4-ba82-553e9149d427')\"\n",
              "            title=\"Convert this dataframe to an interactive table.\"\n",
              "            style=\"display:none;\">\n",
              "\n",
              "  <svg xmlns=\"http://www.w3.org/2000/svg\" height=\"24px\" viewBox=\"0 -960 960 960\">\n",
              "    <path d=\"M120-120v-720h720v720H120Zm60-500h600v-160H180v160Zm220 220h160v-160H400v160Zm0 220h160v-160H400v160ZM180-400h160v-160H180v160Zm440 0h160v-160H620v160ZM180-180h160v-160H180v160Zm440 0h160v-160H620v160Z\"/>\n",
              "  </svg>\n",
              "    </button>\n",
              "\n",
              "  <style>\n",
              "    .colab-df-container {\n",
              "      display:flex;\n",
              "      gap: 12px;\n",
              "    }\n",
              "\n",
              "    .colab-df-convert {\n",
              "      background-color: #E8F0FE;\n",
              "      border: none;\n",
              "      border-radius: 50%;\n",
              "      cursor: pointer;\n",
              "      display: none;\n",
              "      fill: #1967D2;\n",
              "      height: 32px;\n",
              "      padding: 0 0 0 0;\n",
              "      width: 32px;\n",
              "    }\n",
              "\n",
              "    .colab-df-convert:hover {\n",
              "      background-color: #E2EBFA;\n",
              "      box-shadow: 0px 1px 2px rgba(60, 64, 67, 0.3), 0px 1px 3px 1px rgba(60, 64, 67, 0.15);\n",
              "      fill: #174EA6;\n",
              "    }\n",
              "\n",
              "    .colab-df-buttons div {\n",
              "      margin-bottom: 4px;\n",
              "    }\n",
              "\n",
              "    [theme=dark] .colab-df-convert {\n",
              "      background-color: #3B4455;\n",
              "      fill: #D2E3FC;\n",
              "    }\n",
              "\n",
              "    [theme=dark] .colab-df-convert:hover {\n",
              "      background-color: #434B5C;\n",
              "      box-shadow: 0px 1px 3px 1px rgba(0, 0, 0, 0.15);\n",
              "      filter: drop-shadow(0px 1px 2px rgba(0, 0, 0, 0.3));\n",
              "      fill: #FFFFFF;\n",
              "    }\n",
              "  </style>\n",
              "\n",
              "    <script>\n",
              "      const buttonEl =\n",
              "        document.querySelector('#df-e61e1eff-db03-45e4-ba82-553e9149d427 button.colab-df-convert');\n",
              "      buttonEl.style.display =\n",
              "        google.colab.kernel.accessAllowed ? 'block' : 'none';\n",
              "\n",
              "      async function convertToInteractive(key) {\n",
              "        const element = document.querySelector('#df-e61e1eff-db03-45e4-ba82-553e9149d427');\n",
              "        const dataTable =\n",
              "          await google.colab.kernel.invokeFunction('convertToInteractive',\n",
              "                                                    [key], {});\n",
              "        if (!dataTable) return;\n",
              "\n",
              "        const docLinkHtml = 'Like what you see? Visit the ' +\n",
              "          '<a target=\"_blank\" href=https://colab.research.google.com/notebooks/data_table.ipynb>data table notebook</a>'\n",
              "          + ' to learn more about interactive tables.';\n",
              "        element.innerHTML = '';\n",
              "        dataTable['output_type'] = 'display_data';\n",
              "        await google.colab.output.renderOutput(dataTable, element);\n",
              "        const docLink = document.createElement('div');\n",
              "        docLink.innerHTML = docLinkHtml;\n",
              "        element.appendChild(docLink);\n",
              "      }\n",
              "    </script>\n",
              "  </div>\n",
              "\n",
              "\n",
              "<div id=\"df-883f9e0d-966d-490b-9d26-d95e8cddec3d\">\n",
              "  <button class=\"colab-df-quickchart\" onclick=\"quickchart('df-883f9e0d-966d-490b-9d26-d95e8cddec3d')\"\n",
              "            title=\"Suggest charts\"\n",
              "            style=\"display:none;\">\n",
              "\n",
              "<svg xmlns=\"http://www.w3.org/2000/svg\" height=\"24px\"viewBox=\"0 0 24 24\"\n",
              "     width=\"24px\">\n",
              "    <g>\n",
              "        <path d=\"M19 3H5c-1.1 0-2 .9-2 2v14c0 1.1.9 2 2 2h14c1.1 0 2-.9 2-2V5c0-1.1-.9-2-2-2zM9 17H7v-7h2v7zm4 0h-2V7h2v10zm4 0h-2v-4h2v4z\"/>\n",
              "    </g>\n",
              "</svg>\n",
              "  </button>\n",
              "\n",
              "<style>\n",
              "  .colab-df-quickchart {\n",
              "      --bg-color: #E8F0FE;\n",
              "      --fill-color: #1967D2;\n",
              "      --hover-bg-color: #E2EBFA;\n",
              "      --hover-fill-color: #174EA6;\n",
              "      --disabled-fill-color: #AAA;\n",
              "      --disabled-bg-color: #DDD;\n",
              "  }\n",
              "\n",
              "  [theme=dark] .colab-df-quickchart {\n",
              "      --bg-color: #3B4455;\n",
              "      --fill-color: #D2E3FC;\n",
              "      --hover-bg-color: #434B5C;\n",
              "      --hover-fill-color: #FFFFFF;\n",
              "      --disabled-bg-color: #3B4455;\n",
              "      --disabled-fill-color: #666;\n",
              "  }\n",
              "\n",
              "  .colab-df-quickchart {\n",
              "    background-color: var(--bg-color);\n",
              "    border: none;\n",
              "    border-radius: 50%;\n",
              "    cursor: pointer;\n",
              "    display: none;\n",
              "    fill: var(--fill-color);\n",
              "    height: 32px;\n",
              "    padding: 0;\n",
              "    width: 32px;\n",
              "  }\n",
              "\n",
              "  .colab-df-quickchart:hover {\n",
              "    background-color: var(--hover-bg-color);\n",
              "    box-shadow: 0 1px 2px rgba(60, 64, 67, 0.3), 0 1px 3px 1px rgba(60, 64, 67, 0.15);\n",
              "    fill: var(--button-hover-fill-color);\n",
              "  }\n",
              "\n",
              "  .colab-df-quickchart-complete:disabled,\n",
              "  .colab-df-quickchart-complete:disabled:hover {\n",
              "    background-color: var(--disabled-bg-color);\n",
              "    fill: var(--disabled-fill-color);\n",
              "    box-shadow: none;\n",
              "  }\n",
              "\n",
              "  .colab-df-spinner {\n",
              "    border: 2px solid var(--fill-color);\n",
              "    border-color: transparent;\n",
              "    border-bottom-color: var(--fill-color);\n",
              "    animation:\n",
              "      spin 1s steps(1) infinite;\n",
              "  }\n",
              "\n",
              "  @keyframes spin {\n",
              "    0% {\n",
              "      border-color: transparent;\n",
              "      border-bottom-color: var(--fill-color);\n",
              "      border-left-color: var(--fill-color);\n",
              "    }\n",
              "    20% {\n",
              "      border-color: transparent;\n",
              "      border-left-color: var(--fill-color);\n",
              "      border-top-color: var(--fill-color);\n",
              "    }\n",
              "    30% {\n",
              "      border-color: transparent;\n",
              "      border-left-color: var(--fill-color);\n",
              "      border-top-color: var(--fill-color);\n",
              "      border-right-color: var(--fill-color);\n",
              "    }\n",
              "    40% {\n",
              "      border-color: transparent;\n",
              "      border-right-color: var(--fill-color);\n",
              "      border-top-color: var(--fill-color);\n",
              "    }\n",
              "    60% {\n",
              "      border-color: transparent;\n",
              "      border-right-color: var(--fill-color);\n",
              "    }\n",
              "    80% {\n",
              "      border-color: transparent;\n",
              "      border-right-color: var(--fill-color);\n",
              "      border-bottom-color: var(--fill-color);\n",
              "    }\n",
              "    90% {\n",
              "      border-color: transparent;\n",
              "      border-bottom-color: var(--fill-color);\n",
              "    }\n",
              "  }\n",
              "</style>\n",
              "\n",
              "  <script>\n",
              "    async function quickchart(key) {\n",
              "      const quickchartButtonEl =\n",
              "        document.querySelector('#' + key + ' button');\n",
              "      quickchartButtonEl.disabled = true;  // To prevent multiple clicks.\n",
              "      quickchartButtonEl.classList.add('colab-df-spinner');\n",
              "      try {\n",
              "        const charts = await google.colab.kernel.invokeFunction(\n",
              "            'suggestCharts', [key], {});\n",
              "      } catch (error) {\n",
              "        console.error('Error during call to suggestCharts:', error);\n",
              "      }\n",
              "      quickchartButtonEl.classList.remove('colab-df-spinner');\n",
              "      quickchartButtonEl.classList.add('colab-df-quickchart-complete');\n",
              "    }\n",
              "    (() => {\n",
              "      let quickchartButtonEl =\n",
              "        document.querySelector('#df-883f9e0d-966d-490b-9d26-d95e8cddec3d button');\n",
              "      quickchartButtonEl.style.display =\n",
              "        google.colab.kernel.accessAllowed ? 'block' : 'none';\n",
              "    })();\n",
              "  </script>\n",
              "</div>\n",
              "\n",
              "    </div>\n",
              "  </div>\n"
            ]
          },
          "metadata": {},
          "execution_count": 14
        }
      ]
    },
    {
      "cell_type": "code",
      "source": [
        "# Calculate overall average duration\n",
        "average_duration = df['Time to Reach $1B'].mean()\n",
        "\n",
        "# Calculate average durations for different periods (e.g., by decade)\n",
        "# For example, calculate the average duration for companies founded between 2011-2022\n",
        "average_duration_2000s = df[(df['Year Founded'] >= 2011) & (df['Year Founded'] < 2022)]['Time to Reach $1B'].mean()\n"
      ],
      "metadata": {
        "id": "NGE_tcphmmL9"
      },
      "execution_count": null,
      "outputs": []
    },
    {
      "cell_type": "code",
      "source": [
        "# Calculate average time to reach $1 billion valuation\n",
        "average_time = df['Time to Reach $1B'].mean()\n",
        "print(f\"Average time to reach $1B valuation: {average_time:.2f} years\")\n"
      ],
      "metadata": {
        "colab": {
          "base_uri": "https://localhost:8080/"
        },
        "id": "9QfE4b2FnKY3",
        "outputId": "de24e0f3-8bff-48e4-ad95-09fe3ee2b7f1"
      },
      "execution_count": null,
      "outputs": [
        {
          "output_type": "stream",
          "name": "stdout",
          "text": [
            "Average time to reach $1B valuation: 7.49 years\n"
          ]
        }
      ]
    },
    {
      "cell_type": "code",
      "source": [],
      "metadata": {
        "id": "jjlmqjEAemmm"
      },
      "execution_count": null,
      "outputs": []
    },
    {
      "cell_type": "code",
      "source": [
        "import matplotlib.pyplot as plt\n",
        "\n",
        "# Plot histogram or distribution of time to reach $1B valuation\n",
        "plt.hist(df['Time to Reach $1B'], bins=30, edgecolor='black')\n",
        "plt.xlabel('Time to Reach $1B Valuation (years)')\n",
        "plt.ylabel('Frequency')\n",
        "plt.title('Distribution of Time to Reach $1B Valuation')\n",
        "plt.show()\n"
      ],
      "metadata": {
        "colab": {
          "base_uri": "https://localhost:8080/",
          "height": 472
        },
        "id": "Qk3Odn4ao5rH",
        "outputId": "229a5679-a43d-46a0-9d61-21d0deb3949f"
      },
      "execution_count": null,
      "outputs": [
        {
          "output_type": "display_data",
          "data": {
            "text/plain": [
              "<Figure size 640x480 with 1 Axes>"
            ],
            "image/png": "[encoded data removed]"
          },
          "metadata": {}
        }
      ]
    },
    {
      "cell_type": "markdown",
      "source": [
        "# 2.**Which countries have the most unicorns? Are there any cities that appear to be industry hubs?**\n",
        "\n",
        "\n"
      ],
      "metadata": {
        "id": "my2u3kyXA-il"
      }
    },
    {
      "cell_type": "code",
      "source": [
        "# Count unicorn companies by country\n",
        "unicorns_by_country = df['Country'].value_counts()\n",
        "print(unicorns_by_country)\n"
      ],
      "metadata": {
        "colab": {
          "base_uri": "https://localhost:8080/"
        },
        "id": "ML6sylaIr4zD",
        "outputId": "f56cd162-9a23-4991-a045-83a8a3a60bad"
      },
      "execution_count": null,
      "outputs": [
        {
          "output_type": "stream",
          "name": "stdout",
          "text": [
            "United States           555\n",
            "China                   170\n",
            "India                    65\n",
            "United Kingdom           43\n",
            "Germany                  26\n",
            "France                   23\n",
            "Israel                   20\n",
            "Canada                   18\n",
            "Brazil                   16\n",
            "Singapore                12\n",
            "South Korea              12\n",
            "Australia                 8\n",
            "Hong Kong                 6\n",
            "Mexico                    6\n",
            "Indonesia                 6\n",
            "Netherlands               6\n",
            "Sweden                    6\n",
            "Switzerland               5\n",
            "Japan                     5\n",
            "Ireland                   5\n",
            "Finland                   4\n",
            "Norway                    4\n",
            "United Arab Emirates      3\n",
            "Turkey                    3\n",
            "Spain                     3\n",
            "Belgium                   3\n",
            "Chile                     2\n",
            "South Africa              2\n",
            "Philippines               2\n",
            "Thailand                  2\n",
            "Estonia                   2\n",
            "Vietnam                   2\n",
            "Austria                   2\n",
            "Colombia                  2\n",
            "Denmark                   2\n",
            "Argentina                 1\n",
            "Bermuda                   1\n",
            "Lithuania                 1\n",
            "Malaysia                  1\n",
            "Senegal                   1\n",
            "Bahamas                   1\n",
            "Luxembourg                1\n",
            "Nigeria                   1\n",
            "Czech Republic            1\n",
            "Croatia                   1\n",
            "Italy                     1\n",
            "Name: Country, dtype: int64\n"
          ]
        }
      ]
    },
    {
      "cell_type": "code",
      "source": [
        "import matplotlib.pyplot as plt\n",
        "\n",
        "# Count unicorn companies by country\n",
        "unicorns_by_country = df['Country'].value_counts()\n",
        "\n",
        "# Select top 5 countries\n",
        "top_countries = unicorns_by_country.head(5)\n",
        "\n",
        "# Plot bar chart\n",
        "plt.bar(top_countries.index, top_countries)\n",
        "plt.xlabel('Country')\n",
        "plt.ylabel('Number of Unicorn Companies')\n",
        "plt.title('Top 5 Countries with Most Unicorn Companies')\n",
        "plt.show()\n"
      ],
      "metadata": {
        "colab": {
          "base_uri": "https://localhost:8080/",
          "height": 472
        },
        "id": "ShN0zm1LsGQB",
        "outputId": "b2a52147-2f9b-4dbd-ef99-c1937997ba6f"
      },
      "execution_count": null,
      "outputs": [
        {
          "output_type": "display_data",
          "data": {
            "text/plain": [
              "<Figure size 640x480 with 1 Axes>"
            ],
            "image/png": "[encoded data removed]"
          },
          "metadata": {}
        }
      ]
    },
    {
      "cell_type": "markdown",
      "source": [],
      "metadata": {
        "id": "x2q2ccoxsbKM"
      }
    },
    {
      "cell_type": "markdown",
      "source": [],
      "metadata": {
        "id": "J52roasMsbNG"
      }
    },
    {
      "cell_type": "code",
      "source": [
        "# Count unicorn companies by city\n",
        "unicorns_by_city = df['City'].value_counts()\n",
        "print(unicorns_by_city)\n"
      ],
      "metadata": {
        "colab": {
          "base_uri": "https://localhost:8080/"
        },
        "id": "4Z25MfwXsQx8",
        "outputId": "7636f6aa-4a04-4aff-8409-718e9a855d79"
      },
      "execution_count": null,
      "outputs": [
        {
          "output_type": "stream",
          "name": "stdout",
          "text": [
            "San Francisco    152\n",
            "New York         102\n",
            "Beijing           62\n",
            "Shanghai          43\n",
            "London            34\n",
            "                ... \n",
            "Lysaker            1\n",
            "Richmond           1\n",
            "Santa Barbara      1\n",
            "Altrincham         1\n",
            "Milpitas           1\n",
            "Name: City, Length: 253, dtype: int64\n"
          ]
        }
      ]
    },
    {
      "cell_type": "code",
      "source": [
        "# Plot top cities with the most unicorn companies\n",
        "top_cities = unicorns_by_city.head(10)\n",
        "top_cities.plot(kind='bar')\n",
        "plt.xlabel('City')\n",
        "plt.ylabel('Number of Unicorn Companies')\n",
        "plt.title('Top Cities with Most Unicorn Companies')\n",
        "plt.show()"
      ],
      "metadata": {
        "colab": {
          "base_uri": "https://localhost:8080/",
          "height": 553
        },
        "id": "o8zRQpo2QwRY",
        "outputId": "49085d9d-b9de-4b98-f460-2788204035fc"
      },
      "execution_count": null,
      "outputs": [
        {
          "output_type": "display_data",
          "data": {
            "text/plain": [
              "<Figure size 640x480 with 1 Axes>"
            ],
            "image/png": "[encoded data removed]"
          },
          "metadata": {}
        }
      ]
    },
    {
      "cell_type": "markdown",
      "source": [
        "***Unveiling the Top 10 Industries: A Deep Dive into Unicorn Companies***"
      ],
      "metadata": {
        "id": "wyrf3h7-FgEZ"
      }
    },
    {
      "cell_type": "code",
      "source": [
        "\n",
        "\n",
        "# Count unicorn companies by industry\n",
        "unicorns_by_industry = df['Industry'].value_counts()\n",
        "\n",
        "# Select top 10 industries\n",
        "top_industries = unicorns_by_industry.head(10)\n",
        "\n",
        "# Display the top 10 industries and their respective counts\n",
        "print(\"Top 10 Industries with the Maximum Number of Unicorn Companies:\")\n",
        "print(top_industries)\n",
        "\n",
        "\n",
        "\n"
      ],
      "metadata": {
        "colab": {
          "base_uri": "https://localhost:8080/"
        },
        "id": "Ud_ODXwgDEWL",
        "outputId": "d00f8732-188a-4157-e1ff-322b1dbce419"
      },
      "execution_count": null,
      "outputs": [
        {
          "output_type": "stream",
          "name": "stdout",
          "text": [
            "Top 10 Industries with the Maximum Number of Unicorn Companies:\n",
            "Fintech                                222\n",
            "Internet software & services           203\n",
            "E-commerce & direct-to-consumer        109\n",
            "Health                                  74\n",
            "Artificial intelligence                 73\n",
            "Other                                   56\n",
            "Supply chain, logistics, & delivery     56\n",
            "Cybersecurity                           50\n",
            "Data management & analytics             40\n",
            "Mobile & telecommunications             37\n",
            "Name: Industry, dtype: int64\n"
          ]
        }
      ]
    },
    {
      "cell_type": "code",
      "source": [
        "\n",
        "unicorns_by_industry = df['Industry'].value_counts()\n",
        "\n",
        "# Select top 10 industries\n",
        "top_industries = unicorns_by_industry.head(10)\n",
        "\n",
        "# Display the top 10 industries and their respective counts\n",
        "print(\"Top 10 Industries with the Maximum Number of Unicorn Companies:\")\n",
        "print(top_industries)\n",
        "\n",
        "# Check if there are any cities that appear to be industry hubs\n",
        "for industry in top_industries.index:\n",
        "    # Filter data for the specific industry\n",
        "    industry_data = df[df['Industry'] == industry]\n",
        "\n",
        "    # Count unicorn companies by city within the industry\n",
        "    unicorns_by_city = industry_data['City'].value_counts()\n",
        "\n",
        "    # Display the cities with the respective counts\n",
        "    print(f\"\\nCities in {industry} Industry:\")\n",
        "    print(unicorns_by_city)\n"
      ],
      "metadata": {
        "colab": {
          "base_uri": "https://localhost:8080/"
        },
        "id": "6mXJpM9SBaS9",
        "outputId": "7f7ef4c2-5848-45bd-d099-3524e144401d"
      },
      "execution_count": null,
      "outputs": [
        {
          "output_type": "stream",
          "name": "stdout",
          "text": [
            "Top 10 Industries with the Maximum Number of Unicorn Companies:\n",
            "Fintech                                222\n",
            "Internet software & services           203\n",
            "E-commerce & direct-to-consumer        109\n",
            "Health                                  74\n",
            "Artificial intelligence                 73\n",
            "Other                                   56\n",
            "Supply chain, logistics, & delivery     56\n",
            "Cybersecurity                           50\n",
            "Data management & analytics             40\n",
            "Mobile & telecommunications             37\n",
            "Name: Industry, dtype: int64\n",
            "\n",
            "Cities in Fintech Industry:\n",
            "San Francisco       41\n",
            "New York            33\n",
            "London              24\n",
            "Bengaluru            6\n",
            "Los Angeles          5\n",
            "                    ..\n",
            "Atlanta              1\n",
            "Ho Chi Minh City     1\n",
            "Irvine               1\n",
            "Bangalore            1\n",
            "Charlotte            1\n",
            "Name: City, Length: 80, dtype: int64\n",
            "\n",
            "Cities in Internet software & services Industry:\n",
            "San Francisco       54\n",
            "New York            19\n",
            "Bengaluru            9\n",
            "Beijing              5\n",
            "Chicago              5\n",
            "                    ..\n",
            "Tel Aviv             1\n",
            "Madrid               1\n",
            "Louvain-la-Neuve     1\n",
            "Helsinki             1\n",
            "Washington           1\n",
            "Name: City, Length: 77, dtype: int64\n",
            "\n",
            "Cities in E-commerce & direct-to-consumer Industry:\n",
            "Beijing             11\n",
            "Paris                6\n",
            "Shanghai             5\n",
            "New York             5\n",
            "San Francisco        5\n",
            "Shenzhen             4\n",
            "Gurgaon              4\n",
            "Berlin               4\n",
            "Seoul                3\n",
            "Hangzhou             3\n",
            "Bengaluru            3\n",
            "New Delhi            2\n",
            "Pune                 2\n",
            "Oslo                 2\n",
            "El Segundo           2\n",
            "Austin               2\n",
            "Sao Paulo            2\n",
            "Amsterdam            1\n",
            "Jakarta              1\n",
            "Pennsauken           1\n",
            "Alexandria           1\n",
            "Nanjing              1\n",
            "Parana               1\n",
            "Islandia             1\n",
            "Chicago              1\n",
            "Hefei                1\n",
            "Bellevue             1\n",
            "Solihull             1\n",
            "London               1\n",
            "Gurugram             1\n",
            "Mexico City          1\n",
            "Mumbai               1\n",
            "Wuhan                1\n",
            "Jaipur               1\n",
            "Jiangsu              1\n",
            "Selangor             1\n",
            "Marina del Rey       1\n",
            "Philadelphia         1\n",
            "Istanbul             1\n",
            "Changsha             1\n",
            "Lerma de Villada     1\n",
            "Vilnius              1\n",
            "Campinas             1\n",
            "Faridabad            1\n",
            "Boston               1\n",
            "Culver City          1\n",
            "Bend                 1\n",
            "Detroit              1\n",
            "Palo Alto            1\n",
            "Carlsbad             1\n",
            "Madison              1\n",
            "Thane                1\n",
            "Los Angeles          1\n",
            "Dongguan             1\n",
            "Jacksonville         1\n",
            "Curitiba             1\n",
            "Long Beach           1\n",
            "Name: City, dtype: int64\n",
            "\n",
            "Cities in Health Industry:\n",
            "New York         14\n",
            "San Francisco    12\n",
            "Hangzhou          4\n",
            "Cambridge         3\n",
            "Denver            2\n",
            "Paris             2\n",
            "Burlingame        2\n",
            "Shanghai          2\n",
            "Boston            2\n",
            "Chengdu           2\n",
            "Gurugram          1\n",
            "Framingham        1\n",
            "Seongnam-Si       1\n",
            "Boca Raton        1\n",
            "Bengaluru         1\n",
            "Miami             1\n",
            "Waltham           1\n",
            "Guangzhou         1\n",
            "Stockholm         1\n",
            "San Mateo         1\n",
            "Dublin            1\n",
            "Beijing           1\n",
            "Brisbane          1\n",
            "Tirat Carmel      1\n",
            "Lausanne          1\n",
            "Bethesda          1\n",
            "Hayward           1\n",
            "Mountain View     1\n",
            "Redwood City      1\n",
            "San Diego         1\n",
            "Oulu              1\n",
            "McLean            1\n",
            "Duderstadt        1\n",
            "El Segundo        1\n",
            "Suzhou            1\n",
            "Brooklyn          1\n",
            "Chicago           1\n",
            "Irving            1\n",
            "Menlo Park        1\n",
            "Name: City, dtype: int64\n",
            "\n",
            "Cities in Artificial intelligence Industry:\n",
            "Beijing          8\n",
            "San Francisco    8\n",
            "New York         5\n",
            "Mountain View    5\n",
            "Shanghai         4\n",
            "Shenzhen         3\n",
            "Paris            2\n",
            "London           2\n",
            "Toronto          2\n",
            "Jerusalem        2\n",
            "Chicago          2\n",
            "San Jose         2\n",
            "Palo Alto        2\n",
            "Boston           2\n",
            "Dallas           1\n",
            "Santa Clara      1\n",
            "San Diego        1\n",
            "Los Altos        1\n",
            "Fremont          1\n",
            "Tel Aviv         1\n",
            "San Mateo        1\n",
            "Santiago         1\n",
            "Seattle          1\n",
            "Washington DC    1\n",
            "Austin           1\n",
            "Bristol          1\n",
            "Menlo Park       1\n",
            "Tokyo            1\n",
            "Guangzhou        1\n",
            "Pittsburgh       1\n",
            "Irvine           1\n",
            "Hamilton         1\n",
            "Tallinn          1\n",
            "Redwood City     1\n",
            "Bellevue         1\n",
            "Sao Paulo        1\n",
            "Name: City, dtype: int64\n",
            "\n",
            "Cities in Other Industry:\n",
            "New York         4\n",
            "Hawthorne        2\n",
            "San Francisco    2\n",
            "London           2\n",
            "Shenzhen         2\n",
            "Dubai            2\n",
            "Houston          2\n",
            "Cambridge        1\n",
            "Chennai          1\n",
            "Seoul            1\n",
            "Washington       1\n",
            "Shanghai         1\n",
            "Bristol          1\n",
            "Vancouver        1\n",
            "Tsuruoka         1\n",
            "Atlanta          1\n",
            "Cedar Park       1\n",
            "Roubaix          1\n",
            "Englewood        1\n",
            "Berlin           1\n",
            "Bengaluru        1\n",
            "Chicago          1\n",
            "Tokyo            1\n",
            "Charlotte        1\n",
            "Fort Mill        1\n",
            "Evry             1\n",
            "Colchester       1\n",
            "Bogota           1\n",
            "Leudelange       1\n",
            "Stockholm        1\n",
            "Walpole          1\n",
            "Los Angeles      1\n",
            "Carson City      1\n",
            "Inglewood        1\n",
            "San Carlos       1\n",
            "Alameda          1\n",
            "Sao Paulo        1\n",
            "Herzliya         1\n",
            "Hunan            1\n",
            "El Segundo       1\n",
            "Norfolk          1\n",
            "Paris            1\n",
            "Santa Monica     1\n",
            "Unterfoehring    1\n",
            "Cary             1\n",
            "Goleta           1\n",
            "Manila           1\n",
            "Name: City, dtype: int64\n",
            "\n",
            "Cities in Supply chain, logistics, & delivery Industry:\n",
            "San Francisco          5\n",
            "Shanghai               5\n",
            "Bengaluru              3\n",
            "Beijing                3\n",
            "Chicago                2\n",
            "New York               2\n",
            "Sao Paulo              2\n",
            "Pune                   2\n",
            "Gurgaon                2\n",
            "Berlin                 2\n",
            "Shenzhen               2\n",
            "Seattle                1\n",
            "Cheung Sha Wan         1\n",
            "Zurich                 1\n",
            "Miami                  1\n",
            "Dubai                  1\n",
            "Osasco                 1\n",
            "Bangkok                1\n",
            "Tel Aviv               1\n",
            "Ottawa                 1\n",
            "Atlanta                1\n",
            "Prague                 1\n",
            "Lehi                   1\n",
            "Encinitas              1\n",
            "South San Francisco    1\n",
            "Tianjin                1\n",
            "Chengdu                1\n",
            "Helsinki               1\n",
            "Bogota                 1\n",
            "Jakarta                1\n",
            "Fremont                1\n",
            "London                 1\n",
            "Boston                 1\n",
            "Boulder                1\n",
            "Seoul                  1\n",
            "Redwood City           1\n",
            "Name: City, dtype: int64\n",
            "\n",
            "Cities in Cybersecurity Industry:\n",
            "New York          9\n",
            "San Francisco     8\n",
            "Boston            3\n",
            "Tel Aviv          3\n",
            "Palo Alto         2\n",
            "Miami             1\n",
            "Petah Tikva       1\n",
            "Herndon           1\n",
            "San Diego         1\n",
            "Los Altos         1\n",
            "Ramat Gan         1\n",
            "Waterloo          1\n",
            "Hangzhou          1\n",
            "Portland          1\n",
            "Salt Lake City    1\n",
            "Netanya           1\n",
            "Hanover           1\n",
            "Vancouver         1\n",
            "Kirkland          1\n",
            "San Mateo         1\n",
            "Foster City       1\n",
            "McLean            1\n",
            "Sunnyvale         1\n",
            "Burlington        1\n",
            "Schaffhausen      1\n",
            "Eden Prairie      1\n",
            "Toronto           1\n",
            "San Jose          1\n",
            "Santa Clara       1\n",
            "Tampa             1\n",
            "Name: City, dtype: int64\n",
            "\n",
            "Cities in Data management & analytics Industry:\n",
            "New York            4\n",
            "Sunnyvale           3\n",
            "Palo Alto           3\n",
            "San Francisco       2\n",
            "San Jose            2\n",
            "Oslo                1\n",
            "Mumbai              1\n",
            "Prilly              1\n",
            "Portola Valley      1\n",
            "Seattle             1\n",
            "Chicago             1\n",
            "Tel Aviv            1\n",
            "Hangzhou            1\n",
            "Berkeley Heights    1\n",
            "Mountain View       1\n",
            "San Mateo           1\n",
            "Santa Clara         1\n",
            "Altrincham          1\n",
            "Redwood City        1\n",
            "Northbrook          1\n",
            "Munich              1\n",
            "Cambridge           1\n",
            "Lysaker             1\n",
            "Beijing             1\n",
            "Boston              1\n",
            "Englewood Cliffs    1\n",
            "Louisville          1\n",
            "Philadelphia        1\n",
            "Brussels            1\n",
            "Oakland             1\n",
            "Colorado Springs    1\n",
            "Name: City, dtype: int64\n",
            "\n",
            "Cities in Mobile & telecommunications Industry:\n",
            "Beijing          9\n",
            "San Francisco    5\n",
            "Shanghai         3\n",
            "Tokyo            1\n",
            "Sao Paulo        1\n",
            "Vodnjan          1\n",
            "Espoo            1\n",
            "San Mateo        1\n",
            "Mountain View    1\n",
            "London           1\n",
            "Hangzhou         1\n",
            "Midrand          1\n",
            "Bengaluru        1\n",
            "Cambridge        1\n",
            "Istanbul         1\n",
            "Culver City      1\n",
            "Amsterdam        1\n",
            "Redwood City     1\n",
            "Seoul            1\n",
            "Tel Aviv         1\n",
            "Hoboken          1\n",
            "Milpitas         1\n",
            "Name: City, dtype: int64\n"
          ]
        }
      ]
    },
    {
      "cell_type": "markdown",
      "source": [
        "# 3.**Which investors have funded the most unicorns?**\n"
      ],
      "metadata": {
        "id": "qi_si_TyBUr_"
      }
    },
    {
      "cell_type": "code",
      "source": [
        "# Split and count investors\n",
        "investors_count = df['Select Investors'].str.split(', ').explode().value_counts()\n",
        "print(investors_count)\n"
      ],
      "metadata": {
        "colab": {
          "base_uri": "https://localhost:8080/"
        },
        "id": "XjvG0qtQtxU6",
        "outputId": "860c7369-8928-4e04-8eea-257a6f768a99"
      },
      "execution_count": null,
      "outputs": [
        {
          "output_type": "stream",
          "name": "stdout",
          "text": [
            "Accel                       60\n",
            "Andreessen Horowitz         53\n",
            "Tiger Global Management     53\n",
            "Sequoia Capital China       47\n",
            "Insight Partners            46\n",
            "                            ..\n",
            "Go-Ventures                  1\n",
            "Lockheed Martin Ventures     1\n",
            "GAM Holding                  1\n",
            "HOF Capital                  1\n",
            "Causeway Media Partners      1\n",
            "Name: Select Investors, Length: 1250, dtype: int64\n"
          ]
        }
      ]
    },
    {
      "cell_type": "code",
      "source": [
        "# Display top investors\n",
        "top_investors = investors_count.head(10)\n",
        "print(top_investors)\n"
      ],
      "metadata": {
        "id": "GzNb0MiRufgI",
        "outputId": "c19da90d-eaea-45c7-fcb9-1e09056e4abb",
        "colab": {
          "base_uri": "https://localhost:8080/"
        }
      },
      "execution_count": null,
      "outputs": [
        {
          "output_type": "stream",
          "name": "stdout",
          "text": [
            "Accel                          60\n",
            "Andreessen Horowitz            53\n",
            "Tiger Global Management        53\n",
            "Sequoia Capital China          47\n",
            "Insight Partners               46\n",
            "Sequoia Capital                46\n",
            "Lightspeed Venture Partners    34\n",
            "SoftBank Group                 34\n",
            "General Catalyst               33\n",
            "Index Ventures                 32\n",
            "Name: Select Investors, dtype: int64\n"
          ]
        }
      ]
    },
    {
      "cell_type": "markdown",
      "source": [
        "# 4.**How long does it usually take for a company to become a unicorn? Has it always been this way?**"
      ],
      "metadata": {
        "id": "haogWP9UAi96"
      }
    },
    {
      "cell_type": "code",
      "source": [
        "# Calculate the time it takes for a company to become a unicorn\n",
        "# This is the difference between the 'Date Joined' and 'Year Founded'\n",
        "\n",
        "# Convert 'Date Joined' to datetime\n",
        "# Ensure 'Year Founded' is an integer\n",
        "df['Date Joined'] = pd.to_datetime(df['Date Joined'])\n",
        "df['Year Founded'] = df['Year Founded'].astype(int)\n",
        "\n",
        "# Calculate the time to become a unicorn in years\n",
        "# We will ignore companies with missing 'Year Founded' data\n",
        "df['Time to Unicorn (Years)'] = df['Date Joined'].dt.year - df['Year Founded']\n",
        "\n",
        "# Calculate the average time to become a unicorn\n",
        "average_time_to_unicorn = df['Time to Unicorn (Years)'].mean()\n",
        "\n",
        "# Calculate the median time to become a unicorn\n",
        "median_time_to_unicorn = df['Time to Unicorn (Years)'].median()\n",
        "\n",
        "# Calculate the trend over the years\n",
        "# Group by 'Year Founded' and calculate the average time for each group\n",
        "trend_over_years = df.groupby('Year Founded')['Time to Unicorn (Years)'].mean().reset_index()\n",
        "\n",
        "# Output the average and median time to become a unicorn\n",
        "print('Average time to become a unicorn:', average_time_to_unicorn)\n",
        "print('Median time to become a unicorn:', median_time_to_unicorn)\n",
        "\n",
        "# Plot the trend over the years\n",
        "import matplotlib.pyplot as plt\n",
        "\n",
        "plt.figure(figsize=(10, 10))\n",
        "plt.plot(trend_over_years['Year Founded'], trend_over_years['Time to Unicorn (Years)'], marker='o')\n",
        "plt.title('Average Time to Become a Unicorn Over the Years')\n",
        "plt.xlabel('Year Founded')\n",
        "plt.ylabel('Average Time to Unicorn (Years)')\n",
        "plt.grid(True)\n",
        "plt.show()"
      ],
      "metadata": {
        "colab": {
          "base_uri": "https://localhost:8080/",
          "height": 907
        },
        "id": "5h9d8aytq4WY",
        "outputId": "112f3769-4765-4bf8-9879-3fc763bdac31"
      },
      "execution_count": null,
      "outputs": [
        {
          "output_type": "stream",
          "name": "stdout",
          "text": [
            "Average time to become a unicorn: 6.989642184557439\n",
            "Median time to become a unicorn: 6.0\n"
          ]
        },
        {
          "output_type": "display_data",
          "data": {
            "text/plain": [
              "<Figure size 1000x1000 with 1 Axes>"
            ],
            "image/png": "[encoded data removed]"
          },
          "metadata": {}
        }
      ]
    },
    {
      "cell_type": "code",
      "source": [
        "# Sort DataFrame by the time to reach $1 billion in ascending order\n",
        "top_fastest_unicorns = df.sort_values(by='Time to Reach $1B').head(10)\n",
        "\n",
        "# Display the top 10 companies, their industry, and time taken\n",
        "print(\"Top 10 Companies Becoming Unicorns in the Shortest Time:\")\n",
        "print(top_fastest_unicorns[['Company', 'Industry', 'Country', 'Time to Reach $1B']])"
      ],
      "metadata": {
        "colab": {
          "base_uri": "https://localhost:8080/"
        },
        "id": "EPTyhz7YepC3",
        "outputId": "eb31ce59-ee30-4ddf-fa59-e3e8f5bd5b17"
      },
      "execution_count": null,
      "outputs": [
        {
          "output_type": "stream",
          "name": "stdout",
          "text": [
            "Top 10 Companies Becoming Unicorns in the Shortest Time:\n",
            "                   Company                         Industry        Country  \\\n",
            "709           Yidian Zixun      Mobile & telecommunications          China   \n",
            "313             Flink Food  E-commerce & direct-to-consumer        Germany   \n",
            "161  Ola Electric Mobility            Auto & transportation          India   \n",
            "768                   Jokr  E-commerce & direct-to-consumer  United States   \n",
            "990                 Playco                            Other          Japan   \n",
            "395              candy.com                          Fintech  United States   \n",
            "552             ClickHouse      Data management & analytics  United States   \n",
            "956           Mensa Brands                            Other          India   \n",
            "544                  Avant          Artificial intelligence  United States   \n",
            "815             GlobalBees  E-commerce & direct-to-consumer          India   \n",
            "\n",
            "     Time to Reach $1B  \n",
            "709          -3.210959  \n",
            "313           0.030137  \n",
            "161           0.101370  \n",
            "768           0.115068  \n",
            "990           0.723288  \n",
            "395           0.802740  \n",
            "552           0.821918  \n",
            "956           0.873973  \n",
            "544           0.961644  \n",
            "815           0.989041  \n"
          ]
        }
      ]
    }
  ]
}